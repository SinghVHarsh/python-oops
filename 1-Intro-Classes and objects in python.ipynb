{
 "cells": [
  {
   "cell_type": "code",
   "execution_count": 1,
   "id": "7d1023f7",
   "metadata": {},
   "outputs": [],
   "source": [
    "class Student:\n",
    "    def __init__(self):\n",
    "        self.name = 'Shubham'  # this is the attribute or the variables inside a class\n",
    "        self.age = 22\n",
    "        self.marks = 45\n",
    "\n",
    "    def talk(self):  # this is the action or the method\n",
    "        print(\"Name - \", self.name)\n",
    "        print(\"Age - \", self.age)\n",
    "        print(\"Marks - \", self.marks)"
   ]
  },
  {
   "cell_type": "code",
   "execution_count": 2,
   "id": "1b63bd48",
   "metadata": {},
   "outputs": [],
   "source": [
    "s1 = Student()  # here we have created an object"
   ]
  },
  {
   "cell_type": "code",
   "execution_count": 3,
   "id": "e7d4e318",
   "metadata": {},
   "outputs": [
    {
     "name": "stdout",
     "output_type": "stream",
     "text": [
      "Shubham\n"
     ]
    }
   ],
   "source": [
    "print(s1.name)  # we are directly using the global variable of our class or we can say the attributes of our class"
   ]
  },
  {
   "cell_type": "code",
   "execution_count": 4,
   "id": "fa408d0e",
   "metadata": {},
   "outputs": [
    {
     "name": "stdout",
     "output_type": "stream",
     "text": [
      "Name -  Shubham\n",
      "Age -  22\n",
      "Marks -  45\n"
     ]
    }
   ],
   "source": [
    "s1.talk()  # using the action or method of our class through the object"
   ]
  },
  {
   "cell_type": "code",
   "execution_count": 7,
   "id": "c8a9965d",
   "metadata": {},
   "outputs": [
    {
     "name": "stdout",
     "output_type": "stream",
     "text": [
      "Name -  Harsh\n",
      "Age -  22\n",
      "Marks -  45\n"
     ]
    }
   ],
   "source": [
    "#we can also assign a new name to the object if we are giving the name explicitly\n",
    "s2=Student()\n",
    "s2.name='Harsh'\n",
    "s2.talk()"
   ]
  }
 ],
 "metadata": {
  "kernelspec": {
   "display_name": "Python 3 (ipykernel)",
   "language": "python",
   "name": "python3"
  },
  "language_info": {
   "codemirror_mode": {
    "name": "ipython",
    "version": 3
   },
   "file_extension": ".py",
   "mimetype": "text/x-python",
   "name": "python",
   "nbconvert_exporter": "python",
   "pygments_lexer": "ipython3",
   "version": "3.10.4"
  }
 },
 "nbformat": 4,
 "nbformat_minor": 5
}
