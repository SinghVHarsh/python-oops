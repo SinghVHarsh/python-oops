{
 "cells": [
  {
   "cell_type": "markdown",
   "id": "d7a8dbf9",
   "metadata": {},
   "source": [
    "# Encapsulation\n"
   ]
  },
  {
   "cell_type": "markdown",
   "id": "419c423d",
   "metadata": {},
   "source": [
    "In an object oriented python program, you can restrict access to methods and variables. This can prevent the data from being modified by accident and is known as encapsulation."
   ]
  },
  {
   "cell_type": "code",
   "execution_count": 3,
   "id": "bf70f413",
   "metadata": {},
   "outputs": [],
   "source": [
    "class Speed:\n",
    "    def __init__(self):\n",
    "        self.speed=10\n",
    "        self.__new_speed=80  #when we start a new variable with __(double underscore) the variable or the attribute becomes private that is it can only be accesible inside a class."
   ]
  },
  {
   "cell_type": "markdown",
   "id": "ab8f02ca",
   "metadata": {},
   "source": [
    "### Private attributes"
   ]
  },
  {
   "cell_type": "code",
   "execution_count": 4,
   "id": "1a148018",
   "metadata": {},
   "outputs": [
    {
     "name": "stdout",
     "output_type": "stream",
     "text": [
      "10\n"
     ]
    },
    {
     "ename": "AttributeError",
     "evalue": "'Speed' object has no attribute '__new_speed'",
     "output_type": "error",
     "traceback": [
      "\u001b[1;31m---------------------------------------------------------------------------\u001b[0m",
      "\u001b[1;31mAttributeError\u001b[0m                            Traceback (most recent call last)",
      "Input \u001b[1;32mIn [4]\u001b[0m, in \u001b[0;36m<cell line: 3>\u001b[1;34m()\u001b[0m\n\u001b[0;32m      1\u001b[0m s\u001b[38;5;241m=\u001b[39mSpeed()\n\u001b[0;32m      2\u001b[0m \u001b[38;5;28mprint\u001b[39m(s\u001b[38;5;241m.\u001b[39mspeed)\n\u001b[1;32m----> 3\u001b[0m \u001b[38;5;28mprint\u001b[39m(\u001b[43ms\u001b[49m\u001b[38;5;241;43m.\u001b[39;49m\u001b[43m__new_speed\u001b[49m)\n",
      "\u001b[1;31mAttributeError\u001b[0m: 'Speed' object has no attribute '__new_speed'"
     ]
    }
   ],
   "source": [
    "s=Speed()\n",
    "print(s.speed)\n",
    "print(s.__new_speed)"
   ]
  },
  {
   "cell_type": "markdown",
   "id": "99ae5c95",
   "metadata": {},
   "source": [
    "As we can see here we are not able to print the new speed so we can see that this attribute is not accessible outside the class"
   ]
  },
  {
   "cell_type": "code",
   "execution_count": 5,
   "id": "a64e82f3",
   "metadata": {},
   "outputs": [
    {
     "name": "stdout",
     "output_type": "stream",
     "text": [
      "60\n",
      "70\n"
     ]
    }
   ],
   "source": [
    "s=Speed()\n",
    "s.speed=60\n",
    "print(s.speed)\n",
    "s.__new_speed=70\n",
    "print(s.__new_speed)"
   ]
  },
  {
   "cell_type": "markdown",
   "id": "f0c0d581",
   "metadata": {},
   "source": [
    "so here we can wee that we are not able to access the value but we are able to modift the value ,so this again becomes a problem"
   ]
  },
  {
   "cell_type": "markdown",
   "id": "14871169",
   "metadata": {},
   "source": [
    "# Getters and Setters"
   ]
  },
  {
   "cell_type": "markdown",
   "id": "27058a3f",
   "metadata": {},
   "source": [
    "If we want to access our private attributes or variables we can use it through a public function"
   ]
  },
  {
   "cell_type": "code",
   "execution_count": 6,
   "id": "d5d5d824",
   "metadata": {},
   "outputs": [],
   "source": [
    "class Speed:\n",
    "    def __init__(self):\n",
    "        self.speed=10\n",
    "        self.__new_speed=80  #when we start a new variable with __(double underscore) the variable or the attribute becomes private that is it can only be accesible inside a class.\n",
    "    def get_new_speed(self):\n",
    "        return self.__new_speed"
   ]
  },
  {
   "cell_type": "code",
   "execution_count": 9,
   "id": "e674c75d",
   "metadata": {},
   "outputs": [
    {
     "name": "stdout",
     "output_type": "stream",
     "text": [
      "10\n",
      "80\n"
     ]
    }
   ],
   "source": [
    "s_new=Speed()\n",
    "print(s_new.speed)\n",
    "print(s_new.get_new_speed())"
   ]
  },
  {
   "cell_type": "markdown",
   "id": "0cfafc82",
   "metadata": {},
   "source": [
    "we can see that we are able to access the value of our attributes through a public function"
   ]
  },
  {
   "cell_type": "markdown",
   "id": "9dd0ed27",
   "metadata": {},
   "source": [
    "### Setters"
   ]
  },
  {
   "cell_type": "markdown",
   "id": "fd05f5c7",
   "metadata": {},
   "source": [
    "get and set are not some kind of keyword they are just a naming convention which makes our code easier to read by someone."
   ]
  },
  {
   "cell_type": "code",
   "execution_count": 13,
   "id": "0380429d",
   "metadata": {},
   "outputs": [],
   "source": [
    "class Speed:\n",
    "    def __init__(self):\n",
    "        self.speed=10\n",
    "        self.__new_speed=80  #when we start a new variable with __(double underscore) the variable or the attribute becomes private that is it can only be accesible inside a class.\n",
    "    def get_new_speed(self):\n",
    "        return self.__new_speed\n",
    "    def set_new_speed(self,new_speed):\n",
    "        self.__new_speed=new_speed"
   ]
  },
  {
   "cell_type": "code",
   "execution_count": 12,
   "id": "848aa9d2",
   "metadata": {},
   "outputs": [
    {
     "data": {
      "text/plain": [
       "200"
      ]
     },
     "execution_count": 12,
     "metadata": {},
     "output_type": "execute_result"
    }
   ],
   "source": [
    "c2=Speed()\n",
    "c2.set_new_speed(200) #setting the new speed of the private attribute to 200 through a setter function.\n",
    "c2.get_new_speed()"
   ]
  },
  {
   "cell_type": "markdown",
   "id": "ee9b1bb5",
   "metadata": {},
   "source": [
    "### Private Methods"
   ]
  },
  {
   "cell_type": "code",
   "execution_count": 18,
   "id": "22e4eb5d",
   "metadata": {},
   "outputs": [],
   "source": [
    "class Example:\n",
    "    def __init(self):\n",
    "        self.x=10 #public attribute\n",
    "        self._y=20 #semi private attribute\n",
    "        self.__z=30  #private attribute \n",
    "    def __private_mehthod(self): #this is a private method\n",
    "        print('I am inside a private mehtod')"
   ]
  },
  {
   "cell_type": "code",
   "execution_count": 19,
   "id": "ba92ad0a",
   "metadata": {},
   "outputs": [
    {
     "ename": "AttributeError",
     "evalue": "'Example' object has no attribute '__private_mehtod'",
     "output_type": "error",
     "traceback": [
      "\u001b[1;31m---------------------------------------------------------------------------\u001b[0m",
      "\u001b[1;31mAttributeError\u001b[0m                            Traceback (most recent call last)",
      "Input \u001b[1;32mIn [19]\u001b[0m, in \u001b[0;36m<cell line: 2>\u001b[1;34m()\u001b[0m\n\u001b[0;32m      1\u001b[0m new_inst\u001b[38;5;241m=\u001b[39mExample()\n\u001b[1;32m----> 2\u001b[0m \u001b[43mnew_inst\u001b[49m\u001b[38;5;241;43m.\u001b[39;49m\u001b[43m__private_mehtod\u001b[49m()\n",
      "\u001b[1;31mAttributeError\u001b[0m: 'Example' object has no attribute '__private_mehtod'"
     ]
    }
   ],
   "source": [
    "new_inst=Example()\n",
    "new_inst.__private_mehtod()"
   ]
  },
  {
   "cell_type": "markdown",
   "id": "b3af22d2",
   "metadata": {},
   "source": [
    "--> so we can see here we are not able to use our private method.<br>\n",
    "--> to access this you can use the getter method "
   ]
  },
  {
   "cell_type": "code",
   "execution_count": 38,
   "id": "baea35d8",
   "metadata": {},
   "outputs": [],
   "source": [
    "class Example1:\n",
    "    def __init__(self):\n",
    "        self.x=10 #public attribute\n",
    "        self._y=20 #semi private attribute\n",
    "        self.__z=30  #private attribute \n",
    "    \n",
    "    def __private_method(self): #this is a private method\n",
    "        print('I am inside a private method')\n",
    "    def public_method(self):\n",
    "        print(self.x)\n",
    "        print(self._y)\n",
    "        print(self.__z)\n",
    "        self.__private_method()"
   ]
  },
  {
   "cell_type": "code",
   "execution_count": 39,
   "id": "78dbe85c",
   "metadata": {},
   "outputs": [
    {
     "name": "stdout",
     "output_type": "stream",
     "text": [
      "10\n",
      "20\n",
      "30\n",
      "I am inside a private method\n"
     ]
    }
   ],
   "source": [
    "new_inst_1=Example1()\n",
    "new_inst_1.public_method()"
   ]
  },
  {
   "cell_type": "markdown",
   "id": "b033b537",
   "metadata": {},
   "source": [
    "so here we are able to access our private method with the help of  a getter function"
   ]
  },
  {
   "cell_type": "code",
   "execution_count": null,
   "id": "7ebdef65",
   "metadata": {},
   "outputs": [],
   "source": []
  }
 ],
 "metadata": {
  "kernelspec": {
   "display_name": "Python 3 (ipykernel)",
   "language": "python",
   "name": "python3"
  },
  "language_info": {
   "codemirror_mode": {
    "name": "ipython",
    "version": 3
   },
   "file_extension": ".py",
   "mimetype": "text/x-python",
   "name": "python",
   "nbconvert_exporter": "python",
   "pygments_lexer": "ipython3",
   "version": "3.10.4"
  }
 },
 "nbformat": 4,
 "nbformat_minor": 5
}
